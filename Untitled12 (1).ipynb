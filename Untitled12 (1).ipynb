{
 "cells": [
  {
   "cell_type": "markdown",
   "id": "4b990534-6aee-4496-9c3f-daf25513e377",
   "metadata": {},
   "source": [
    "## Q1- def keyword is used to create a function.\n"
   ]
  },
  {
   "cell_type": "code",
   "execution_count": 2,
   "id": "374e3c15-cb3b-42f4-9844-dd98cd9171c7",
   "metadata": {},
   "outputs": [],
   "source": [
    "## create a function to return a list of odd numbers in a range of 1 to 25.\n",
    "def odd_numbers():\n",
    "    i=1\n",
    "    while(i<=25):\n",
    "        if i%2 != 0:\n",
    "            print(i)\n",
    "        i=i+1\n",
    "        "
   ]
  },
  {
   "cell_type": "code",
   "execution_count": 3,
   "id": "feb21577-b589-43ae-8d4f-195c98d8ce48",
   "metadata": {},
   "outputs": [
    {
     "name": "stdout",
     "output_type": "stream",
     "text": [
      "1\n",
      "3\n",
      "5\n",
      "7\n",
      "9\n",
      "11\n",
      "13\n",
      "15\n",
      "17\n",
      "19\n",
      "21\n",
      "23\n",
      "25\n"
     ]
    }
   ],
   "source": [
    "odd_numbers()"
   ]
  },
  {
   "cell_type": "markdown",
   "id": "b60479df-5b85-4d24-ae60-8c2fc707e662",
   "metadata": {},
   "source": [
    "## *args is used to pass multiple number of arguments to a function. **kwargs is used to pass keyword arguments to a function."
   ]
  },
  {
   "cell_type": "code",
   "execution_count": 12,
   "id": "b00a5848-476d-42cc-91f7-b855e05a621d",
   "metadata": {},
   "outputs": [],
   "source": [
    "# example of *args function\n",
    "def print_fruits(*args):\n",
    "    print(args)"
   ]
  },
  {
   "cell_type": "code",
   "execution_count": 13,
   "id": "862f94a4-c32e-4119-b8a5-cf59eab00dfd",
   "metadata": {},
   "outputs": [
    {
     "name": "stdout",
     "output_type": "stream",
     "text": [
      "('apple', 'mango', 'orange')\n"
     ]
    }
   ],
   "source": [
    "print_fruits('apple','mango','orange')"
   ]
  },
  {
   "cell_type": "code",
   "execution_count": 30,
   "id": "fae9659d-c586-4ed6-a33c-7aaf7c83893e",
   "metadata": {},
   "outputs": [],
   "source": [
    "# example of keyword arguments **kwargs\n",
    "def student_mark(**kwargs):\n",
    "    for key, value in kwargs.items():\n",
    "        print(key,'=',value)\n",
    "    "
   ]
  },
  {
   "cell_type": "code",
   "execution_count": 33,
   "id": "7828c115-084d-45a0-9bc6-a793ca74585a",
   "metadata": {},
   "outputs": [
    {
     "name": "stdout",
     "output_type": "stream",
     "text": [
      "satya = 25\n",
      "jagannath = 23\n",
      "suraj = 45\n"
     ]
    }
   ],
   "source": [
    "student_mark(satya=25,jagannath=23,suraj=45)"
   ]
  },
  {
   "cell_type": "markdown",
   "id": "7f15ecd9-2fbb-412f-8b15-50fe3a714213",
   "metadata": {},
   "source": [
    "## Q3 An iterator in Python is an object that is used to iterate over iterable objects like lists, tuples, dicts, and sets. The Python iterators object is initialized using the iter() method. It uses the next() method for iteration.\n",
    "\n",
    "## __iter__(): The iter() method is called for the initialization of an iterator. This returns an iterator object\n",
    "## __next__(): The next method returns the next value for the iterable. When we use a for loop to traverse any iterable object, internally it uses the iter() method to get an iterator object, which further uses the next() method to iterate over. This method raises a StopIteration to signal the end of the iteration."
   ]
  },
  {
   "cell_type": "markdown",
   "id": "724e2b5a-9a39-4f1f-ac88-1c8a8ed6d61f",
   "metadata": {},
   "source": [
    "# Q4 what is generator function in python? why yield keyword is used? Give an example of a generator function."
   ]
  },
  {
   "cell_type": "markdown",
   "id": "5c4223ab-0a9d-40e5-8103-80f16d6e9d09",
   "metadata": {},
   "source": [
    "# A generator function is a special type of function that returns an iterator, which we can iterate over (one value at a time).The yield keyword is used to produce a value from the generator and pause the function’s execution. When the function is called again, it resumes execution right after the yield statement, maintaining its state. "
   ]
  },
  {
   "cell_type": "code",
   "execution_count": 16,
   "id": "3c9c71de-304e-45df-b0cf-45e16c1c03d7",
   "metadata": {},
   "outputs": [
    {
     "name": "stdout",
     "output_type": "stream",
     "text": [
      "0\n",
      "1\n",
      "2\n"
     ]
    }
   ],
   "source": [
    "def simple_generator():\n",
    "    for i in range(12):\n",
    "        yield i\n",
    "gen = simple_generator()\n",
    "print(next(gen))  # Output: 1\n",
    "print(next(gen))  # Output: 2\n",
    "print(next(gen))  # Output: 3\n"
   ]
  },
  {
   "cell_type": "code",
   "execution_count": 20,
   "id": "cff7c490-7c39-4a6a-b5ef-2fc3141285ca",
   "metadata": {},
   "outputs": [
    {
     "name": "stdout",
     "output_type": "stream",
     "text": [
      "2\n",
      "3\n",
      "5\n",
      "7\n",
      "11\n",
      "13\n",
      "17\n",
      "19\n",
      "23\n",
      "29\n",
      "31\n",
      "37\n",
      "41\n",
      "43\n",
      "47\n",
      "53\n",
      "59\n",
      "61\n",
      "67\n",
      "71\n"
     ]
    }
   ],
   "source": [
    "def is_prime(n):\n",
    "    if n <= 1:\n",
    "        return False\n",
    "    for i in range(2, int(n**0.5) + 1):\n",
    "        if n % i == 0:\n",
    "            return False\n",
    "    return True\n",
    "\n",
    "def prime_generator(limit):\n",
    "    n = 2\n",
    "    while n <= limit:\n",
    "        if is_prime(n):\n",
    "            yield n\n",
    "        n += 1\n",
    "\n",
    "# Create the generator\n",
    "gen = prime_generator(1000)\n",
    "\n",
    "# Print the first 20 prime numbers using the next method\n",
    "for _ in range(20):\n",
    "    print(next(gen))\n"
   ]
  },
  {
   "cell_type": "code",
   "execution_count": 1,
   "id": "7e37b368-6b4a-4458-9d8e-387c45c64c3e",
   "metadata": {},
   "outputs": [
    {
     "name": "stdout",
     "output_type": "stream",
     "text": [
      "0\n",
      "1\n",
      "1\n",
      "2\n",
      "3\n",
      "5\n",
      "8\n",
      "13\n",
      "21\n",
      "34\n"
     ]
    }
   ],
   "source": [
    "def print_fibonacci(n):\n",
    "    a, b = 0, 1\n",
    "    count = 0\n",
    "    while count < n:\n",
    "        print(a)\n",
    "        a, b = b, a + b\n",
    "        count += 1\n",
    "\n",
    "# Print the first 10 Fibonacci numbers\n",
    "print_fibonacci(10)\n"
   ]
  },
  {
   "cell_type": "code",
   "execution_count": 2,
   "id": "e14eaaa8-005e-42c8-9501-cd5be1a2563a",
   "metadata": {},
   "outputs": [
    {
     "name": "stdout",
     "output_type": "stream",
     "text": [
      "['p', 'w', 's', 'k', 'i', 'l', 'l', 's']\n"
     ]
    }
   ],
   "source": [
    "s='pwskills'\n",
    "new_list=[i for i in s]\n",
    "print(new_list)"
   ]
  },
  {
   "cell_type": "code",
   "execution_count": 3,
   "id": "ef1f65d2-a385-44a3-902f-184b379af471",
   "metadata": {},
   "outputs": [
    {
     "name": "stdout",
     "output_type": "stream",
     "text": [
      "121 is a palindrome.\n"
     ]
    }
   ],
   "source": [
    "def is_palindrome(num):\n",
    "    original_num = num\n",
    "    reverse_num = 0\n",
    "    \n",
    "    while num > 0:\n",
    "        remainder = num % 10\n",
    "        reverse_num = reverse_num * 10 + remainder\n",
    "        num = num // 10\n",
    "    \n",
    "    return original_num == reverse_num\n",
    "\n",
    "# Example usage\n",
    "number = 121\n",
    "if is_palindrome(number):\n",
    "    print(f\"{number} is a palindrome.\")\n",
    "else:\n",
    "    print(f\"{number} is not a palindrome.\")\n"
   ]
  },
  {
   "cell_type": "code",
   "execution_count": null,
   "id": "2a2448c7-b426-4378-9143-c2bf68822b10",
   "metadata": {},
   "outputs": [],
   "source": [
    "new_list=[i for i in range(1,)]"
   ]
  }
 ],
 "metadata": {
  "kernelspec": {
   "display_name": "Python 3 (ipykernel)",
   "language": "python",
   "name": "python3"
  },
  "language_info": {
   "codemirror_mode": {
    "name": "ipython",
    "version": 3
   },
   "file_extension": ".py",
   "mimetype": "text/x-python",
   "name": "python",
   "nbconvert_exporter": "python",
   "pygments_lexer": "ipython3",
   "version": "3.11.7"
  }
 },
 "nbformat": 4,
 "nbformat_minor": 5
}
